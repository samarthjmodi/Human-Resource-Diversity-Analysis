{
 "cells": [
  {
   "cell_type": "markdown",
   "metadata": {},
   "source": [
    "# Human Resource Diversity Analysis\n",
    "#### DATA 512A - Final Project Proposal"
   ]
  },
  {
   "cell_type": "markdown",
   "metadata": {},
   "source": [
    "### Motivation\n",
    "--------------"
   ]
  },
  {
   "cell_type": "markdown",
   "metadata": {},
   "source": [
    "The MSDS program at UW is committed to fostering an inclusive environment for all individuals in our community by promoting diversity and inclusivity. Thus, we see that diversity and inclusion has been given a high priority at academic institutions as UW. This makes me wonder about the industrial paradigm of diversity and inclusion. By performing an exploratory analysis on Human Resource data, I wish to learn about the industrial paradigm of diversity. Specifically, I wish to have a holistic view of diversity at a typical company and have a better understanding of how far we have come with diversity and inclusion, thus bolstering our human-centered perspective of the same. This analysis will help us learn about different areas where diversity has been properly embraced, and the areas where we need to work more to include more diversity, thus making it a human centered data science project. Specifically, we would be able to check if there is either correlational or causational relationship between diversity in the workforce and certain other entities associated with the HR data of the workforce, eg. seniority, pay, gender, etc."
   ]
  },
  {
   "cell_type": "markdown",
   "metadata": {},
   "source": [
    "### Research Questions\n",
    "----------------"
   ]
  },
  {
   "cell_type": "markdown",
   "metadata": {},
   "source": [
    "**Question 1:** Is recruiting sources related to diversity in the employees?\n",
    "\n",
    "Hypothesis: Diversity oriented hiring endeavors tend to be more inclusive and thus hire a more diverse workforce\n",
    "\n",
    "**Question 2:** Is there a pay gap among different races in a diverse workerforce?\n",
    "\n",
    "Hypothesis: Based on historical evidences, people of color earn less than their white counterparts.\n",
    "\n",
    "\n",
    "**Question 3:** How is the diversity across different job functions?\n",
    "\n",
    "Hypothesis: Certain job functions, like HR representatives, have been observed to comprise more females than males. Similarly, roles such as security guards comprise more males than females.\n",
    "\n",
    "\n",
    "More questions to be added upon data exploration..."
   ]
  },
  {
   "cell_type": "markdown",
   "metadata": {},
   "source": [
    "### Background\n",
    "------------------"
   ]
  },
  {
   "cell_type": "markdown",
   "metadata": {},
   "source": [
    "The article [The State of Diversity in Today’s Workforce](https://cdn.americanprogress.org/wp-content/uploads/issues/2012/07/pdf/diversity_brief.pdf?_ga=2.176572837.1020139421.1605836181-963393614.1605836181) nicely throws light on the recent paradigm of diversity in the current workplace. It surveys the demographics across people of color, gender, gay and transgender workers, as well as people with disabilities. Figure 2 shows that in June 2012, there was a significant under-representation of people of color, since the 'whites' made up 64% of the workforce. Figure 4 shows that 53% of the workforce is male, indicating an inclusive paradigm for males and females. Figure 7 and Figure 8 are of particular interest, as they show that about 96% Fortune 500 CEOs are 'Non-Hispanic white', and similarly about 96% Fortune 500 CEOs are males, throwing light on the lack of diversity in the workforce.\n",
    "\n",
    "\n",
    "The article [Problems in the Workplace From Lack of Diversity](https://bizfluent.com/list-6303771-problems-workplace-lack-diversity.html) mentions the key problems that a workspace could face if its workforce is not diverse. The article mentions that 'One of the primary problems with lack of diversity in the workplace is that when harassment or discrimination occurs, the victim can easily feel alone'. It throws light on the infamous H&M's “monkey shirt” which was tone-deaf product as it was not perceived well by black audiences, which was potentially due to limited perspectives in the workplace. The article also brilliantly explains how Intersectionality (the concept that an individual’s unique experience in society stems from his overlapping social identities) as well as Acquired Diversity (workforce’s diverse range of skill sets, experiences, knowledge and education types) are important to a workspace, the missing of which affects the growth of a workspace as a whole.\n",
    "\n",
    "Upon understanding the problems with the lack of diversity in the workplace from the previous reading, the reading on [Top Benefits of Diversity in the Workplace](https://diverserecruitingexperts.com/benefits-diversity-in-workplace/) informs us why diversity is important at workplace, as well as provides us background information to support my decision to perform this study. The article quotes that 'A diverse workforce can help you connect with audiences you’ve not thought of before in a real and effective way.', and supports this claim by discussing the case of disabled Individual by persuading the audience that 'If you employ disabled individuals, you have a powerful resource within your organization that can help you reach this undeserved population'. The artcile makes a concrete point by stating that 'A diverse team can help you compete in the global marketplace.', which is justified by the 2014 Glassdoor survey that found that 67% of those surveyed say a diverse workforce is an important factor when evaluating companies and job offers. It also states that 'When your organization hires diverse talent you gain the benefit of a workforce that can adapt to changes in the marketplace.', which overcomes the problem due to the lack of 'Acquired Diversity' in the workforce.\n",
    "\n",
    "Another reading on [Embedded Diversity](https://core.ac.uk/download/pdf/43238581.pdf) discusses various traits around embracing diversity in the workplace and we learn a great deal about the present paradigm of diversity in workplace, as well as the problems associated with diversity management due to structural tensions of organising diversity. \n",
    "\n",
    "We know about the state of diversity in the workplace about a decade ago, but over years our society claims to have become more diverse and more inclusive. Also, the backgroud information discussed above explains the problems with not having diversity in workspace as well as about the top benefits that a workplace ought to have by being more diverse. These persuaded me to perform this study and understand how far we have reached today with inclusion and diversity, as well as get a holistic view of a diversity at a typical workspace, by being able to answer a few research questions mentioned previously."
   ]
  },
  {
   "cell_type": "markdown",
   "metadata": {},
   "source": [
    "### Methodology\n",
    "----------------"
   ]
  },
  {
   "cell_type": "markdown",
   "metadata": {},
   "source": [
    "Since we wish to understand the correlational / causal relatioships of diversity with other features of the HR dataset, I wish to perform descriptive as well as inferential statistical analysis of the chosen dataset. Essentially, I wish to perform multivariate analysis on the features of the dataset with the intention of performing thorough Exploratory Data Analysis, since that would help us answer most of our research questions. \n",
    "\n",
    "For example: \n",
    "To answer the first research question, I wish to plot a barchart with bars corresponding to every recruiting sources present in the dataset, and the height of the bar would show the proportion of non-white recruitees from that source.\n",
    "\n",
    "To answer the second research question, I wish to plot a boxplot with boxes corresponding to every racial group present in the dataset, and the box length indicating the hourly pay.\n",
    "\n",
    "To answer the third research question, here again I wish to plot multiple boxplots, one for each job function, with boxes corresponding to every racial group present in the dataset, and the box length indicating the hourly pay.\n",
    "\n",
    "Similarly, I wish to perform multivariate analysis by comparing multiple numerical features with categorical features as dimensions, and performing visual analysis of the charts thus obtained. I would choose barcharts to compare magnitudes across multiple dimensions, histograms to view frequency of the datapoints, boxplots to view the median, the 25% and 75% quantiles, and the outliers in each dimension, and scatter plots to view the datapoints across multiple dimensions\n",
    "\n",
    "I chose the above mentioned methodology since I wish to learn how different factors influence diversity in the workplace, and/or what factors are influenced by diversity in the workplace. We're trying to observe the behavior of some feature as correlation to other features, and here visual plots could help us identify the trends.\n",
    "\n",
    "The image attached aptly justifies the choice of methodology. "
   ]
  },
  {
   "cell_type": "markdown",
   "metadata": {},
   "source": [
    "<img src=\"DS_types.jpg\">"
   ]
  },
  {
   "cell_type": "markdown",
   "metadata": {},
   "source": [
    "### Data\n",
    "------------"
   ]
  },
  {
   "cell_type": "markdown",
   "metadata": {},
   "source": [
    "For this analysis, I wish to use the dataset made available by Dr. Rich Huebner and Carla Patalano to accompany a case study designed for graduate HR students studying HR metrics, measurement, and analytics. The CSV revolves around an anonymous company and the core data set contains names, DOBs, age, gender, marital status, date of hire, reasons for termination, department, whether they are active or terminated, position title, pay rate, manager name, and performance score.\n",
    "\n",
    "The dataset can be found here: [Human Resources Data Set](https://www.kaggle.com/rhuebner/human-resources-data-set) \n",
    "\n",
    "**Citation:** Dr. Carla Patalano, “Human Resources Data Set.” Kaggle, 2020, doi: 10.34740/KAGGLE/DSV/1572001.\n",
    "\n",
    "The dataset has Creative Commons license, proprietary to New England College of Business, but free for use for academic purpose. Since HR data can be hard to come by, this dataset containing demographic information about the staff of this anonymous company can be deemed fit for our purpose of Diversity Analysis, and thus is very relevant to our problem statement. Since this dataset contains the names of the staff, we have an ethical responsibility to get rid of this personally identifiable information before starting our analysis and we need to make sure that any observed result cannot be mapped to any particular staff member.\n"
   ]
  },
  {
   "cell_type": "markdown",
   "metadata": {},
   "source": [
    "### Unknowns\n",
    "--------------"
   ]
  },
  {
   "cell_type": "markdown",
   "metadata": {},
   "source": [
    "Given the ethical constraint mentioned above, my ability to complete this project can be impacted if I cannot find a way around dealing with the sensitive and personally identifiable information so that no human is harmed in any way."
   ]
  }
 ],
 "metadata": {
  "kernelspec": {
   "display_name": "Python 3",
   "language": "python",
   "name": "python3"
  },
  "language_info": {
   "codemirror_mode": {
    "name": "ipython",
    "version": 3
   },
   "file_extension": ".py",
   "mimetype": "text/x-python",
   "name": "python",
   "nbconvert_exporter": "python",
   "pygments_lexer": "ipython3",
   "version": "3.7.4"
  }
 },
 "nbformat": 4,
 "nbformat_minor": 4
}

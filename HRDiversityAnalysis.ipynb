{
 "cells": [
  {
   "cell_type": "markdown",
   "metadata": {},
   "source": [
    "# Human Resource Diversity Analysis\n",
    "#### DATA 512A - Final Project Proposal"
   ]
  },
  {
   "cell_type": "markdown",
   "metadata": {},
   "source": [
    "### Motivation\n",
    "--------------"
   ]
  },
  {
   "cell_type": "markdown",
   "metadata": {},
   "source": [
    "The MSDS program at UW is committed to fostering an inclusive environment for all individuals in our community by promoting diversity and inclusivity. Thus, we see that diversity and inclusion has been given a high priority at academic institutions as UW. This makes me wonder about the industrial paradigm of diversity and inclusion. By performing an exploratory analysis on Human Resource data, I wish to learn about the industrial paradigm of diversity. Specifically, I wish to have a holistic view of diversity at a typical company and have a better understanding of how far we have come with diversity and inclusion, thus bolstering our human-centered perspective of the same. This analysis will help us learn about different areas where diversity has been properly embraced, and the areas where we need to work more to include more diversity, thus making it a human centered data science project. Specifically, we would be able to check if there is either correlational or causational relationship between diversity in the workforce and certain other entities associated with the HR data of the workforce, eg. seniority, pay, gender, etc."
   ]
  },
  {
   "cell_type": "markdown",
   "metadata": {},
   "source": [
    "### Research Questions\n",
    "----------------"
   ]
  },
  {
   "cell_type": "markdown",
   "metadata": {},
   "source": [
    "**Question 1:** Is recruiting sources related to diversity in the employees?\n",
    "\n",
    "Hypothesis: Diversity oriented hiring endeavors tend to be more inclusive and thus hire a more diverse workforce\n",
    "\n",
    "**Question 2:** Is there a pay gap among different races in a diverse workerforce?\n",
    "\n",
    "Hypothesis: Based on historical evidences, people of color earn less than their white counterparts.\n",
    "\n",
    "\n",
    "**Question 3:** How is the diversity across different job functions?\n",
    "\n",
    "Hypothesis: Certain job functions, like HR representatives, have been observed to comprise more females than males. Similarly, roles such as security guards comprise more males than females.\n",
    "\n",
    "\n",
    "More questions to be added upon data exploration..."
   ]
  },
  {
   "cell_type": "markdown",
   "metadata": {},
   "source": [
    "### Background\n",
    "------------------"
   ]
  },
  {
   "cell_type": "markdown",
   "metadata": {},
   "source": [
    "The reading on [Top Benefits of Diversity in the Workplace](https://diverserecruitingexperts.com/benefits-diversity-in-workplace/) informs us why diversity is important at workplace, as well as provides us background information to support my decision to perform this study. \n",
    "\n",
    "\n",
    "Another reading on [Embedded Diversity](https://core.ac.uk/download/pdf/43238581.pdf) discusses various traits around embracing diversity in the workplace and we learn a great deal about the present paradigm of diversity in workplace. This justifies the way I designed the study, as well as leads us to answer our specific research questions."
   ]
  },
  {
   "cell_type": "markdown",
   "metadata": {},
   "source": [
    "### Methodology\n",
    "----------------"
   ]
  },
  {
   "cell_type": "markdown",
   "metadata": {},
   "source": [
    "Since we wish to understand the correlational / causal relatioships of diversity, I wish to perform descriptive statistical analysis of the chosen dataset by performing thorough Exploratory Data Analysis, since that would help us answer most of our research questions. The image attached aptly justifies the choice of methodology."
   ]
  },
  {
   "cell_type": "markdown",
   "metadata": {},
   "source": [
    "<img src=\"DS_types.jpg\">"
   ]
  },
  {
   "cell_type": "markdown",
   "metadata": {},
   "source": [
    "### Data\n",
    "------------"
   ]
  },
  {
   "cell_type": "markdown",
   "metadata": {},
   "source": [
    "For this analysis, I wish to use the dataset made available by Dr. Rich Huebner and Carla Patalano to accompany a case study designed for graduate HR students studying HR metrics, measurement, and analytics. The CSV revolves around an anonymous company and the core data set contains names, DOBs, age, gender, marital status, date of hire, reasons for termination, department, whether they are active or terminated, position title, pay rate, manager name, and performance score.\n",
    "\n",
    "The dataset can be found here: [Human Resources Data Set](https://www.kaggle.com/rhuebner/human-resources-data-set) \n",
    "\n",
    "**Citation:** Dr. Carla Patalano, “Human Resources Data Set.” Kaggle, 2020, doi: 10.34740/KAGGLE/DSV/1572001.\n",
    "\n",
    "The dataset has Creative Commons license, proprietary to New England College of Business, but free for use for academic purpose. Since HR data can be hard to come by, this dataset containing demographic information about the staff of this anonymous company can be deemed fit for our purpose of Diversity Analysis, and thus is very relevant to our problem statement. Since this dataset contains the names of the staff, we have an ethical responsibility to get rid of this personally identifiable information before starting our analysis and we need to make sure that any observed result cannot be mapped to any particular staff member.\n"
   ]
  },
  {
   "cell_type": "markdown",
   "metadata": {},
   "source": [
    "### Unknowns\n",
    "--------------"
   ]
  },
  {
   "cell_type": "markdown",
   "metadata": {},
   "source": [
    "Given the ethical constraint mentioned above, my ability to complete this project can be impacted if I cannot find a way around dealing with the sensitive and personally identifiable information so that no human is harmed in any way."
   ]
  }
 ],
 "metadata": {
  "kernelspec": {
   "display_name": "Python 3",
   "language": "python",
   "name": "python3"
  },
  "language_info": {
   "codemirror_mode": {
    "name": "ipython",
    "version": 3
   },
   "file_extension": ".py",
   "mimetype": "text/x-python",
   "name": "python",
   "nbconvert_exporter": "python",
   "pygments_lexer": "ipython3",
   "version": "3.7.4"
  }
 },
 "nbformat": 4,
 "nbformat_minor": 4
}

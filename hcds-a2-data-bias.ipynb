{
 "cells": [
  {
   "cell_type": "markdown",
   "metadata": {},
   "source": [
    "# HCDS A2: Bias in data"
   ]
  },
  {
   "cell_type": "markdown",
   "metadata": {},
   "source": [
    "Installing certain libraries to be used in this notebook"
   ]
  },
  {
   "cell_type": "code",
   "execution_count": null,
   "metadata": {},
   "outputs": [],
   "source": [
    "pip install nltk"
   ]
  },
  {
   "cell_type": "code",
   "execution_count": null,
   "metadata": {},
   "outputs": [],
   "source": [
    "pip install wordcloud"
   ]
  },
  {
   "cell_type": "markdown",
   "metadata": {},
   "source": [
    "Importing all libraries to be used in this analysis"
   ]
  },
  {
   "cell_type": "code",
   "execution_count": null,
   "metadata": {},
   "outputs": [],
   "source": [
    "from zipfile import ZipFile\n",
    "import pandas as pd\n",
    "import matplotlib.pyplot as plt\n",
    "import nltk\n",
    "from nltk.corpus import stopwords \n",
    "from wordcloud import WordCloud\n",
    "import requests "
   ]
  },
  {
   "cell_type": "markdown",
   "metadata": {},
   "source": [
    "Downloading certain modules from NLTK to be used later"
   ]
  },
  {
   "cell_type": "code",
   "execution_count": null,
   "metadata": {},
   "outputs": [],
   "source": [
    "nltk.download('stopwords')\n",
    "nltk.download('punkt')"
   ]
  },
  {
   "cell_type": "markdown",
   "metadata": {},
   "source": [
    "**For the purpose of this analysis, I chose Wikipedia comments labeled as showing:**\n",
    "**1. Aggression**\n",
    "**2. Toxicity**\n"
   ]
  },
  {
   "cell_type": "markdown",
   "metadata": {},
   "source": [
    "We first download the two datasets using the function below:"
   ]
  },
  {
   "cell_type": "code",
   "execution_count": null,
   "metadata": {},
   "outputs": [],
   "source": [
    "def download_url(url, save_path, chunk_size=128):\n",
    "    r = requests.get(url, stream=True)\n",
    "    with open(save_path, 'wb') as fd:\n",
    "        for chunk in r.iter_content(chunk_size=chunk_size):\n",
    "            fd.write(chunk)\n",
    "            \n",
    "\n",
    "download_url('https://ndownloader.figshare.com/articles/4267550/versions/5', 'Aggression.zip')\n",
    "zip = ZipFile('Aggression.zip')\n",
    "zip.extractall('Aggression')\n",
    "\n",
    "download_url('https://ndownloader.figshare.com/articles/4563973/versions/2', 'Toxicity.zip')\n",
    "zip = ZipFile('Toxicity.zip')\n",
    "zip.extractall('Toxicity')"
   ]
  },
  {
   "cell_type": "markdown",
   "metadata": {},
   "source": [
    "Now we read the csv (or tsv here) files that we extracted from the archives"
   ]
  },
  {
   "cell_type": "code",
   "execution_count": null,
   "metadata": {},
   "outputs": [],
   "source": [
    "agg_df_ann = pd.read_csv(\"Aggression/aggression_annotations.tsv\", sep='\\t')\n",
    "tox_df_ann = pd.read_csv(\"Toxicity/toxicity_annotations.tsv\", sep='\\t')\n",
    "\n",
    "agg_df_com = pd.read_csv(\"Aggression/aggression_annotated_comments.tsv\", sep='\\t')\n",
    "tox_df_com = pd.read_csv(\"Toxicity/toxicity_annotated_comments.tsv\", sep='\\t')\n",
    "\n",
    "agg_df_dem = pd.read_csv(\"Aggression/aggression_worker_demographics.tsv\", sep='\\t')\n",
    "tox_df_dem = pd.read_csv(\"Toxicity/toxicity_worker_demographics.tsv\", sep='\\t')"
   ]
  },
  {
   "cell_type": "markdown",
   "metadata": {},
   "source": [
    "We have loaded the csv files into Pandas dataframes, and we are all set for our analysis! "
   ]
  },
  {
   "cell_type": "markdown",
   "metadata": {},
   "source": [
    "## Question 1: \n",
    "### How well does the demographic profile of the crowdworkers match that of the general population?"
   ]
  },
  {
   "cell_type": "markdown",
   "metadata": {},
   "source": [
    "Let us analyse the demographic traits of the crowdworkers across multiple features:"
   ]
  },
  {
   "cell_type": "markdown",
   "metadata": {},
   "source": [
    "### Demographic analysis for Aggressive comments"
   ]
  },
  {
   "cell_type": "markdown",
   "metadata": {},
   "source": [
    "#### Gender"
   ]
  },
  {
   "cell_type": "code",
   "execution_count": null,
   "metadata": {},
   "outputs": [],
   "source": [
    "fig = plt.figure(figsize =(10, 7))\n",
    "plt.pie(agg_df_dem['gender'].value_counts(), labels = ['Male', 'Female', 'Other'], autopct='%1.2f%%')\n",
    "plt.show() "
   ]
  },
  {
   "cell_type": "markdown",
   "metadata": {},
   "source": []
  },
  {
   "cell_type": "markdown",
   "metadata": {},
   "source": [
    "#### Is English their first language?"
   ]
  },
  {
   "cell_type": "code",
   "execution_count": null,
   "metadata": {},
   "outputs": [],
   "source": [
    "fig = plt.figure(figsize =(10, 7))\n",
    "plt.pie(agg_df_dem['english_first_language'].value_counts(), labels = ['No', 'Yes'], autopct='%1.2f%%')\n",
    "# show plot \n",
    "plt.show() "
   ]
  },
  {
   "cell_type": "markdown",
   "metadata": {},
   "source": []
  },
  {
   "cell_type": "markdown",
   "metadata": {},
   "source": [
    "#### Age"
   ]
  },
  {
   "cell_type": "code",
   "execution_count": null,
   "metadata": {},
   "outputs": [],
   "source": [
    "fig = plt.figure(figsize =(10, 7))\n",
    "plt.pie(agg_df_dem['age_group'].value_counts(), labels = ['18y-30y', '30y-45y', '45y-60y', ' Under 18y', 'Over 60y'], autopct='%1.2f%%')\n",
    "# show plot \n",
    "plt.show() "
   ]
  },
  {
   "cell_type": "markdown",
   "metadata": {},
   "source": []
  },
  {
   "cell_type": "markdown",
   "metadata": {},
   "source": [
    "#### Education"
   ]
  },
  {
   "cell_type": "code",
   "execution_count": null,
   "metadata": {},
   "outputs": [],
   "source": [
    "fig = plt.figure(figsize =(10, 7))\n",
    "plt.pie(agg_df_dem['education'].value_counts(), labels = ['bachelors', 'hs', 'masters', 'professional', 'some', 'doctorate', 'none'], autopct='%1.2f%%')\n",
    "# show plot \n",
    "plt.show() "
   ]
  },
  {
   "cell_type": "markdown",
   "metadata": {},
   "source": []
  },
  {
   "cell_type": "markdown",
   "metadata": {},
   "source": [
    "### Demographic analysis for Toxic comments"
   ]
  },
  {
   "cell_type": "markdown",
   "metadata": {},
   "source": [
    "#### Gender"
   ]
  },
  {
   "cell_type": "code",
   "execution_count": null,
   "metadata": {},
   "outputs": [],
   "source": [
    "fig = plt.figure(figsize =(10, 7))\n",
    "plt.pie(tox_df_dem['gender'].value_counts(), labels = ['Male', 'Female', 'Other'], autopct='%1.2f%%') \n",
    "plt.show() "
   ]
  },
  {
   "cell_type": "markdown",
   "metadata": {},
   "source": []
  },
  {
   "cell_type": "markdown",
   "metadata": {},
   "source": [
    "#### Is English their first language?"
   ]
  },
  {
   "cell_type": "code",
   "execution_count": null,
   "metadata": {},
   "outputs": [],
   "source": [
    "fig = plt.figure(figsize =(10, 7))\n",
    "plt.pie(tox_df_dem['english_first_language'].value_counts(), labels = ['No', 'Yes'], autopct='%1.2f%%') \n",
    "plt.show() "
   ]
  },
  {
   "cell_type": "markdown",
   "metadata": {},
   "source": []
  },
  {
   "cell_type": "markdown",
   "metadata": {},
   "source": [
    "#### Age"
   ]
  },
  {
   "cell_type": "code",
   "execution_count": null,
   "metadata": {},
   "outputs": [],
   "source": [
    "fig = plt.figure(figsize =(10, 7))\n",
    "plt.pie(tox_df_dem['age_group'].value_counts(), labels = ['18y-30y', '30y-45y', '45y-60y', ' Under 18y', 'Over 60y'], autopct='%1.2f%%')\n",
    "plt.show() "
   ]
  },
  {
   "cell_type": "markdown",
   "metadata": {},
   "source": []
  },
  {
   "cell_type": "markdown",
   "metadata": {},
   "source": [
    "#### Education"
   ]
  },
  {
   "cell_type": "code",
   "execution_count": null,
   "metadata": {},
   "outputs": [],
   "source": [
    "fig = plt.figure(figsize =(10, 7))\n",
    "plt.pie(tox_df_dem['education'].value_counts(), labels = ['bachelors', 'hs', 'masters', 'professional', 'some', 'doctorate', 'none'], autopct='%1.2f%%')\n",
    "plt.show() "
   ]
  },
  {
   "cell_type": "markdown",
   "metadata": {},
   "source": []
  },
  {
   "cell_type": "markdown",
   "metadata": {},
   "source": [
    "## Question 2: \n",
    "### Are certain words more likely to be associated with comments labelled as aggressive speech and toxic speech? "
   ]
  },
  {
   "cell_type": "markdown",
   "metadata": {},
   "source": [
    "Let us analyse the most common words in aggressive and toxic comments and compare them with comments without toxicity/aggression"
   ]
  },
  {
   "cell_type": "code",
   "execution_count": null,
   "metadata": {},
   "outputs": [],
   "source": [
    "tox_df_all = tox_df_com.merge(tox_df_ann, on='rev_id')\n",
    "agg_df_all = agg_df_com.merge(agg_df_ann, on='rev_id')\n",
    "stop_words = set(stopwords.words('english')) "
   ]
  },
  {
   "cell_type": "markdown",
   "metadata": {},
   "source": [
    "### Word Cloud analysis for Toxic Speech"
   ]
  },
  {
   "cell_type": "code",
   "execution_count": null,
   "metadata": {},
   "outputs": [],
   "source": [
    "tox_comm = tox_df_all[tox_df_all['toxicity'] == 1]['comment'].sample(frac = 1) \n",
    "all_comm_tox = ''\n",
    "for i in range(10000):\n",
    "    all_comm_tox += str(tox_comm.iloc[i])\n",
    "all_comm_tox = all_comm_tox.replace('NEWLINE_TOKEN', '')\n",
    "\n",
    "wordcloud = WordCloud(width = 800, height = 800, \n",
    "                background_color ='white', \n",
    "                stopwords = stop_words, \n",
    "                min_font_size = 10).generate(all_comm_tox) \n",
    "  \n",
    "# plot the WordCloud image                        \n",
    "plt.figure(figsize = (8, 8), facecolor = None) \n",
    "plt.imshow(wordcloud) \n",
    "plt.axis(\"off\") \n",
    "plt.tight_layout(pad = 0) \n",
    "  \n",
    "plt.show() "
   ]
  },
  {
   "cell_type": "markdown",
   "metadata": {},
   "source": []
  },
  {
   "cell_type": "markdown",
   "metadata": {},
   "source": [
    "### Word Cloud analysis for non-Toxic Speech"
   ]
  },
  {
   "cell_type": "code",
   "execution_count": null,
   "metadata": {},
   "outputs": [],
   "source": [
    "ntox_comm = tox_df_all[tox_df_all['toxicity'] == 0]['comment'].sample(frac = 1) \n",
    "all_comm_ntox = ''\n",
    "for i in range(10000):\n",
    "    all_comm_ntox += str(ntox_comm.iloc[i])\n",
    "    \n",
    "all_comm_ntox = all_comm_ntox.replace('NEWLINE_TOKEN', '')\n",
    "stop_words = set(stopwords.words('english')) \n",
    "\n",
    "wordcloud = WordCloud(width = 800, height = 800, \n",
    "                background_color ='white', \n",
    "                stopwords = stop_words, \n",
    "                min_font_size = 10).generate(all_comm_ntox) \n",
    "  \n",
    "# plot the WordCloud image                        \n",
    "plt.figure(figsize = (8, 8), facecolor = None) \n",
    "plt.imshow(wordcloud) \n",
    "plt.axis(\"off\") \n",
    "plt.tight_layout(pad = 0) \n",
    "  \n",
    "plt.show() "
   ]
  },
  {
   "cell_type": "markdown",
   "metadata": {},
   "source": []
  },
  {
   "cell_type": "markdown",
   "metadata": {},
   "source": [
    "### Word Cloud analysis for Aggressive Speech"
   ]
  },
  {
   "cell_type": "code",
   "execution_count": null,
   "metadata": {},
   "outputs": [],
   "source": [
    "agg_comm = agg_df_all[agg_df_all['aggression'] == 1]['comment'].sample(frac = 1) \n",
    "all_comm_agg = ''\n",
    "for i in range(10000):\n",
    "    all_comm_agg += str(agg_comm.iloc[i])\n",
    "\n",
    "all_comm_agg = all_comm_agg.replace('NEWLINE_TOKEN', '')\n",
    "\n",
    "wordcloud = WordCloud(width = 800, height = 800, \n",
    "                background_color ='white', \n",
    "                stopwords = stop_words, \n",
    "                min_font_size = 10).generate(all_comm_agg) \n",
    "  \n",
    "# plot the WordCloud image                        \n",
    "plt.figure(figsize = (8, 8), facecolor = None) \n",
    "plt.imshow(wordcloud) \n",
    "plt.axis(\"off\") \n",
    "plt.tight_layout(pad = 0) \n",
    "  \n",
    "plt.show() "
   ]
  },
  {
   "cell_type": "markdown",
   "metadata": {},
   "source": []
  },
  {
   "cell_type": "markdown",
   "metadata": {},
   "source": [
    "### Word Cloud analysis for non-Aggressive Speech"
   ]
  },
  {
   "cell_type": "code",
   "execution_count": null,
   "metadata": {},
   "outputs": [],
   "source": [
    "nagg_comm = agg_df_all[agg_df_all['aggression'] == 0]['comment'].sample(frac = 1) \n",
    "all_comm_nagg = ''\n",
    "for i in range(10000):\n",
    "    all_comm_nagg += str(nagg_comm.iloc[i])\n",
    "\n",
    "all_comm_nagg = all_comm_nagg.replace('NEWLINE_TOKEN', '')\n",
    "\n",
    "wordcloud = WordCloud(width = 800, height = 800, \n",
    "                background_color ='white', \n",
    "                stopwords = stop_words, \n",
    "                min_font_size = 10).generate(all_comm_nagg) \n",
    "  \n",
    "# plot the WordCloud image                        \n",
    "plt.figure(figsize = (8, 8), facecolor = None) \n",
    "plt.imshow(wordcloud) \n",
    "plt.axis(\"off\") \n",
    "plt.tight_layout(pad = 0) \n",
    "  \n",
    "plt.show() "
   ]
  },
  {
   "cell_type": "markdown",
   "metadata": {},
   "source": []
  },
  {
   "cell_type": "code",
   "execution_count": null,
   "metadata": {},
   "outputs": [],
   "source": []
  },
  {
   "cell_type": "code",
   "execution_count": null,
   "metadata": {},
   "outputs": [],
   "source": []
  },
  {
   "cell_type": "code",
   "execution_count": null,
   "metadata": {},
   "outputs": [],
   "source": []
  },
  {
   "cell_type": "code",
   "execution_count": null,
   "metadata": {},
   "outputs": [],
   "source": []
  },
  {
   "cell_type": "code",
   "execution_count": null,
   "metadata": {},
   "outputs": [],
   "source": [
    "def download_url(url, save_path, chunk_size=128):\n",
    "    r = requests.get(url, stream=True)\n",
    "    with open(save_path, 'wb') as fd:\n",
    "        for chunk in r.iter_content(chunk_size=chunk_size):\n",
    "            fd.write(chunk)"
   ]
  },
  {
   "cell_type": "code",
   "execution_count": null,
   "metadata": {},
   "outputs": [],
   "source": [
    "download_url('https://ndownloader.figshare.com/articles/4563973/versions/2', 'Toxicity.zip')"
   ]
  },
  {
   "cell_type": "code",
   "execution_count": null,
   "metadata": {},
   "outputs": [],
   "source": [
    "zip = ZipFile('Toxicity_1.zip')\n",
    "zip.extractall('Toxicity_1')"
   ]
  },
  {
   "cell_type": "code",
   "execution_count": null,
   "metadata": {},
   "outputs": [],
   "source": [
    "sa_tox_df_ann = pd.read_csv(\"Toxicity_1/toxicity_annotations.tsv\", sep='\\t')"
   ]
  },
  {
   "cell_type": "code",
   "execution_count": null,
   "metadata": {},
   "outputs": [],
   "source": [
    "sa_tox_df_ann"
   ]
  },
  {
   "cell_type": "code",
   "execution_count": null,
   "metadata": {},
   "outputs": [],
   "source": []
  }
 ],
 "metadata": {
  "kernelspec": {
   "display_name": "Python 3",
   "language": "python",
   "name": "python3"
  },
  "language_info": {
   "codemirror_mode": {
    "name": "ipython",
    "version": 3
   },
   "file_extension": ".py",
   "mimetype": "text/x-python",
   "name": "python",
   "nbconvert_exporter": "python",
   "pygments_lexer": "ipython3",
   "version": "3.7.4"
  }
 },
 "nbformat": 4,
 "nbformat_minor": 4
}
